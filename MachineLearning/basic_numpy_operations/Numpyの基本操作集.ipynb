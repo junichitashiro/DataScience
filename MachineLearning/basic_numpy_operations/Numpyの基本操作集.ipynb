{
 "cells": [
  {
   "attachments": {},
   "cell_type": "markdown",
   "metadata": {},
   "source": [
    "# Numpy基本操作"
   ]
  },
  {
   "cell_type": "code",
   "execution_count": 109,
   "metadata": {},
   "outputs": [],
   "source": [
    "import numpy as np"
   ]
  },
  {
   "attachments": {},
   "cell_type": "markdown",
   "metadata": {},
   "source": [
    "## 1.ベクトルを定義する"
   ]
  },
  {
   "attachments": {},
   "cell_type": "markdown",
   "metadata": {},
   "source": [
    "$\n",
    "  \\boldsymbol{a} = [1\\ 2\\ 3\\ 4]\n",
    "$"
   ]
  },
  {
   "cell_type": "code",
   "execution_count": 110,
   "metadata": {},
   "outputs": [
    {
     "data": {
      "text/plain": [
       "array([1, 2, 3, 4])"
      ]
     },
     "execution_count": 110,
     "metadata": {},
     "output_type": "execute_result"
    }
   ],
   "source": [
    "a = np.array([1, 2, 3, 4])\n",
    "a"
   ]
  },
  {
   "attachments": {},
   "cell_type": "markdown",
   "metadata": {},
   "source": [
    "$\n",
    "  \\boldsymbol{b} =\n",
    "    \\begin{pmatrix}\n",
    "      4 \\\\\n",
    "      -1 \\\\\n",
    "      6 \\\\\n",
    "    \\end{pmatrix}\n",
    "$\n"
   ]
  },
  {
   "cell_type": "code",
   "execution_count": 111,
   "metadata": {},
   "outputs": [
    {
     "data": {
      "text/plain": [
       "array([[ 4],\n",
       "       [-1],\n",
       "       [ 6]])"
      ]
     },
     "execution_count": 111,
     "metadata": {},
     "output_type": "execute_result"
    }
   ],
   "source": [
    "b = np.array([\n",
    "  [4],\n",
    "  [-1],\n",
    "  [6]])\n",
    "b"
   ]
  },
  {
   "attachments": {},
   "cell_type": "markdown",
   "metadata": {},
   "source": [
    "## 2.行列を定義する"
   ]
  },
  {
   "attachments": {},
   "cell_type": "markdown",
   "metadata": {},
   "source": [
    "$\n",
    "  \\boldsymbol{C} =\n",
    "    \\begin{pmatrix}\n",
    "      3 & -2 \\\\\n",
    "      7 & 1 \\\\\n",
    "    \\end{pmatrix}\n",
    "$\n"
   ]
  },
  {
   "cell_type": "code",
   "execution_count": 112,
   "metadata": {},
   "outputs": [
    {
     "data": {
      "text/plain": [
       "array([[ 3, -2],\n",
       "       [ 7, -2]])"
      ]
     },
     "execution_count": 112,
     "metadata": {},
     "output_type": "execute_result"
    }
   ],
   "source": [
    "C = np.array(\n",
    "    [[3, -2],\n",
    "     [7, -2]]\n",
    ")\n",
    "C"
   ]
  },
  {
   "attachments": {},
   "cell_type": "markdown",
   "metadata": {},
   "source": [
    "$\n",
    "  \\boldsymbol{D} =\n",
    "    \\begin{pmatrix}\n",
    "      3 & -2 &  0 & 1\\\\\n",
    "      7 &  1 & -1 & 2\\\\\n",
    "      4 & -5 &  1 & 3\\\\\n",
    "    \\end{pmatrix}\n",
    "$\n"
   ]
  },
  {
   "cell_type": "code",
   "execution_count": 113,
   "metadata": {},
   "outputs": [
    {
     "data": {
      "text/plain": [
       "array([[ 3, -2,  0,  1],\n",
       "       [ 7,  1, -1,  2],\n",
       "       [ 4, -5,  1,  3]])"
      ]
     },
     "execution_count": 113,
     "metadata": {},
     "output_type": "execute_result"
    }
   ],
   "source": [
    "D = np.array(\n",
    "    [[3, -2,  0, 1],\n",
    "     [7,  1, -1, 2],\n",
    "     [4, -5,  1, 3]]\n",
    ")\n",
    "D"
   ]
  },
  {
   "attachments": {},
   "cell_type": "markdown",
   "metadata": {},
   "source": [
    "## 3.特殊なベクトルを作成する"
   ]
  },
  {
   "attachments": {},
   "cell_type": "markdown",
   "metadata": {},
   "source": [
    "$\n",
    "  \\boldsymbol{a} = [0\\ 0]\n",
    "$"
   ]
  },
  {
   "cell_type": "code",
   "execution_count": 114,
   "metadata": {},
   "outputs": [
    {
     "data": {
      "text/plain": [
       "array([[0., 0.]])"
      ]
     },
     "execution_count": 114,
     "metadata": {},
     "output_type": "execute_result"
    }
   ],
   "source": [
    "a = np.zeros((1, 2))\n",
    "a"
   ]
  },
  {
   "attachments": {},
   "cell_type": "markdown",
   "metadata": {},
   "source": [
    "$\n",
    "  \\boldsymbol{b} =\n",
    "    \\begin{pmatrix}\n",
    "      1 \\\\\n",
    "      1 \\\\\n",
    "      1 \\\\\n",
    "      1 \\\\\n",
    "    \\end{pmatrix}\n",
    "$\n"
   ]
  },
  {
   "cell_type": "code",
   "execution_count": 115,
   "metadata": {},
   "outputs": [
    {
     "data": {
      "text/plain": [
       "array([[1.],\n",
       "       [1.],\n",
       "       [1.],\n",
       "       [1.]])"
      ]
     },
     "execution_count": 115,
     "metadata": {},
     "output_type": "execute_result"
    }
   ],
   "source": [
    "b = np.ones((4, 1))\n",
    "b"
   ]
  },
  {
   "attachments": {},
   "cell_type": "markdown",
   "metadata": {},
   "source": [
    "## 4.規則性のある行列を作成する"
   ]
  },
  {
   "attachments": {},
   "cell_type": "markdown",
   "metadata": {},
   "source": [
    "$\n",
    "  \\boldsymbol{C} =\n",
    "    \\begin{pmatrix}\n",
    "      1 & 0 & 0 \\\\\n",
    "      0 & 1 & 0 \\\\\n",
    "      0 & 0 & 1 \\\\\n",
    "    \\end{pmatrix}\n",
    "$\n"
   ]
  },
  {
   "cell_type": "code",
   "execution_count": 116,
   "metadata": {},
   "outputs": [
    {
     "data": {
      "text/plain": [
       "array([[1., 0., 0.],\n",
       "       [0., 1., 0.],\n",
       "       [0., 0., 1.]])"
      ]
     },
     "execution_count": 116,
     "metadata": {},
     "output_type": "execute_result"
    }
   ],
   "source": [
    "C = np.eye(3)\n",
    "C"
   ]
  },
  {
   "attachments": {},
   "cell_type": "markdown",
   "metadata": {},
   "source": [
    "$\n",
    "  \\boldsymbol{D} =\n",
    "    \\begin{pmatrix}\n",
    "      1 & 0 & 0 & 0\\\\\n",
    "      0 & 1 & 0 & 0\\\\\n",
    "      0 & 0 & 1 & 0\\\\\n",
    "    \\end{pmatrix}\n",
    "$\n"
   ]
  },
  {
   "cell_type": "code",
   "execution_count": 117,
   "metadata": {},
   "outputs": [
    {
     "data": {
      "text/plain": [
       "array([[1., 0., 0., 0.],\n",
       "       [0., 1., 0., 0.],\n",
       "       [0., 0., 1., 0.]])"
      ]
     },
     "execution_count": 117,
     "metadata": {},
     "output_type": "execute_result"
    }
   ],
   "source": [
    "D = np.eye(3, 4)\n",
    "D"
   ]
  },
  {
   "attachments": {},
   "cell_type": "markdown",
   "metadata": {},
   "source": [
    "## 5.ベクトル・行列の基本情報を取得する\n",
    "\n",
    "### 以下の基本情報を取得する\n",
    "\n",
    "* 形状\n",
    "* 次元\n",
    "* データ型\n",
    "* 要素数"
   ]
  },
  {
   "attachments": {},
   "cell_type": "markdown",
   "metadata": {},
   "source": [
    "### 対象となるベクトル\n",
    "\n",
    "$\n",
    "  \\boldsymbol{a} = [2\\ 3\\ 4]\n",
    "$"
   ]
  },
  {
   "cell_type": "code",
   "execution_count": 118,
   "metadata": {},
   "outputs": [
    {
     "data": {
      "text/plain": [
       "array([2, 3, 4])"
      ]
     },
     "execution_count": 118,
     "metadata": {},
     "output_type": "execute_result"
    }
   ],
   "source": [
    "a = np.array([2, 3, 4])\n",
    "a"
   ]
  },
  {
   "cell_type": "code",
   "execution_count": 119,
   "metadata": {},
   "outputs": [
    {
     "data": {
      "text/plain": [
       "(3,)"
      ]
     },
     "execution_count": 119,
     "metadata": {},
     "output_type": "execute_result"
    }
   ],
   "source": [
    "a.shape"
   ]
  },
  {
   "cell_type": "code",
   "execution_count": 120,
   "metadata": {},
   "outputs": [
    {
     "data": {
      "text/plain": [
       "1"
      ]
     },
     "execution_count": 120,
     "metadata": {},
     "output_type": "execute_result"
    }
   ],
   "source": [
    "a.ndim"
   ]
  },
  {
   "cell_type": "code",
   "execution_count": 121,
   "metadata": {},
   "outputs": [
    {
     "data": {
      "text/plain": [
       "dtype('int32')"
      ]
     },
     "execution_count": 121,
     "metadata": {},
     "output_type": "execute_result"
    }
   ],
   "source": [
    "a.dtype"
   ]
  },
  {
   "cell_type": "code",
   "execution_count": 122,
   "metadata": {},
   "outputs": [
    {
     "data": {
      "text/plain": [
       "3"
      ]
     },
     "execution_count": 122,
     "metadata": {},
     "output_type": "execute_result"
    }
   ],
   "source": [
    "a.size"
   ]
  },
  {
   "attachments": {},
   "cell_type": "markdown",
   "metadata": {},
   "source": [
    "### 対象となる行列\n",
    "\n",
    "$\n",
    "  \\boldsymbol{B} =\n",
    "    \\begin{pmatrix}\n",
    "      1.2 & 3.5 &  5.1\\\\\n",
    "      -0.3 & 1.1 &  -4.5\\\\\n",
    "    \\end{pmatrix}\n",
    "$\n"
   ]
  },
  {
   "cell_type": "code",
   "execution_count": 123,
   "metadata": {},
   "outputs": [
    {
     "data": {
      "text/plain": [
       "array([[ 1.2,  3.5,  5.1],\n",
       "       [-0.3,  1.1, -4.5]])"
      ]
     },
     "execution_count": 123,
     "metadata": {},
     "output_type": "execute_result"
    }
   ],
   "source": [
    "B = np.array(\n",
    "    [[1.2 , 3.5,  5.1],\n",
    "     [-0.3, 1.1, -4.5]]\n",
    ")\n",
    "B"
   ]
  },
  {
   "cell_type": "code",
   "execution_count": 124,
   "metadata": {},
   "outputs": [
    {
     "data": {
      "text/plain": [
       "(2, 3)"
      ]
     },
     "execution_count": 124,
     "metadata": {},
     "output_type": "execute_result"
    }
   ],
   "source": [
    "B.shape"
   ]
  },
  {
   "cell_type": "code",
   "execution_count": 125,
   "metadata": {},
   "outputs": [
    {
     "data": {
      "text/plain": [
       "2"
      ]
     },
     "execution_count": 125,
     "metadata": {},
     "output_type": "execute_result"
    }
   ],
   "source": [
    "B.ndim"
   ]
  },
  {
   "cell_type": "code",
   "execution_count": 126,
   "metadata": {},
   "outputs": [
    {
     "data": {
      "text/plain": [
       "dtype('float64')"
      ]
     },
     "execution_count": 126,
     "metadata": {},
     "output_type": "execute_result"
    }
   ],
   "source": [
    "B.dtype"
   ]
  },
  {
   "cell_type": "code",
   "execution_count": 127,
   "metadata": {},
   "outputs": [
    {
     "data": {
      "text/plain": [
       "6"
      ]
     },
     "execution_count": 127,
     "metadata": {},
     "output_type": "execute_result"
    }
   ],
   "source": [
    "B.size"
   ]
  },
  {
   "attachments": {},
   "cell_type": "markdown",
   "metadata": {},
   "source": [
    "## 6.インデックスとスライシング"
   ]
  },
  {
   "attachments": {},
   "cell_type": "markdown",
   "metadata": {},
   "source": [
    "### 対象となる行列\n",
    "\n",
    "$\n",
    "  \\boldsymbol{a} = [1\\ 3\\ 5\\ 7\\ 9\\ 11]\n",
    "$\n",
    "\n",
    "### 取得する要素\n",
    "\n",
    "* 3つ目～5つ目を取得\n",
    "* 逆順で取得"
   ]
  },
  {
   "attachments": {},
   "cell_type": "markdown",
   "metadata": {},
   "source": [
    "ベクトルを定義する"
   ]
  },
  {
   "cell_type": "code",
   "execution_count": 128,
   "metadata": {},
   "outputs": [
    {
     "data": {
      "text/plain": [
       "array([ 1,  3,  5,  7,  9, 11])"
      ]
     },
     "execution_count": 128,
     "metadata": {},
     "output_type": "execute_result"
    }
   ],
   "source": [
    "a = np.arange(1, 13, 2)\n",
    "a"
   ]
  },
  {
   "attachments": {},
   "cell_type": "markdown",
   "metadata": {},
   "source": [
    "配列の2から最後の1つ手前までを指定する"
   ]
  },
  {
   "cell_type": "code",
   "execution_count": 129,
   "metadata": {},
   "outputs": [
    {
     "data": {
      "text/plain": [
       "array([5, 7, 9])"
      ]
     },
     "execution_count": 129,
     "metadata": {},
     "output_type": "execute_result"
    }
   ],
   "source": [
    "a[2:-1]"
   ]
  },
  {
   "cell_type": "code",
   "execution_count": 130,
   "metadata": {},
   "outputs": [
    {
     "data": {
      "text/plain": [
       "array([11,  9,  7,  5,  3,  1])"
      ]
     },
     "execution_count": 130,
     "metadata": {},
     "output_type": "execute_result"
    }
   ],
   "source": [
    "a[::-1]"
   ]
  },
  {
   "attachments": {},
   "cell_type": "markdown",
   "metadata": {},
   "source": [
    "### 対象となる行列\n",
    "\n",
    "$\n",
    "  \\boldsymbol{B} =\n",
    "    \\begin{pmatrix}\n",
    "      2  &  4 &   6\\\\\n",
    "      -1 &  5 &  -3\\\\\n",
    "      0  & -2 &   3\\\\\n",
    "    \\end{pmatrix}\n",
    "$\n",
    "\n",
    "### 取得する要素\n",
    "\n",
    "* 1行目\n",
    "* 3行1列目\n",
    "* 2～3行目、2～3列目\n"
   ]
  },
  {
   "attachments": {},
   "cell_type": "markdown",
   "metadata": {},
   "source": [
    "行列を定義する"
   ]
  },
  {
   "cell_type": "code",
   "execution_count": 131,
   "metadata": {},
   "outputs": [
    {
     "data": {
      "text/plain": [
       "array([[ 2,  4,  6],\n",
       "       [-1,  5, -3],\n",
       "       [ 0, -2,  3]])"
      ]
     },
     "execution_count": 131,
     "metadata": {},
     "output_type": "execute_result"
    }
   ],
   "source": [
    "B = np.array(\n",
    "    [[ 2 , 4,  6],\n",
    "     [-1,  5, -3],\n",
    "     [ 0, -2,  3]]\n",
    ")\n",
    "B"
   ]
  },
  {
   "cell_type": "code",
   "execution_count": 132,
   "metadata": {},
   "outputs": [
    {
     "data": {
      "text/plain": [
       "array([2, 4, 6])"
      ]
     },
     "execution_count": 132,
     "metadata": {},
     "output_type": "execute_result"
    }
   ],
   "source": [
    "B[0]"
   ]
  },
  {
   "cell_type": "code",
   "execution_count": 133,
   "metadata": {},
   "outputs": [
    {
     "data": {
      "text/plain": [
       "0"
      ]
     },
     "execution_count": 133,
     "metadata": {},
     "output_type": "execute_result"
    }
   ],
   "source": [
    "B[2, 0]"
   ]
  },
  {
   "cell_type": "code",
   "execution_count": 134,
   "metadata": {},
   "outputs": [
    {
     "data": {
      "text/plain": [
       "array([[ 5, -3],\n",
       "       [-2,  3]])"
      ]
     },
     "execution_count": 134,
     "metadata": {},
     "output_type": "execute_result"
    }
   ],
   "source": [
    "B[1:, 1:]"
   ]
  },
  {
   "attachments": {},
   "cell_type": "markdown",
   "metadata": {},
   "source": [
    "## 7.四則演算"
   ]
  },
  {
   "attachments": {},
   "cell_type": "markdown",
   "metadata": {},
   "source": [
    "足し算\n",
    "\n",
    "$\n",
    "  \\begin{pmatrix}\n",
    "     1 & 3\\\\\n",
    "    -2 & 4\\\\\n",
    "  \\end{pmatrix}\n",
    "  +\\begin{pmatrix}\n",
    "    2 & -1\\\\\n",
    "    3 &  0\\\\\n",
    "  \\end{pmatrix}\n",
    "$"
   ]
  },
  {
   "cell_type": "code",
   "execution_count": 135,
   "metadata": {},
   "outputs": [
    {
     "data": {
      "text/plain": [
       "array([[3, 2],\n",
       "       [1, 4]])"
      ]
     },
     "execution_count": 135,
     "metadata": {},
     "output_type": "execute_result"
    }
   ],
   "source": [
    "a = np.array([[1, 3], [-2, 4]])\n",
    "b = np.array([[2, -1], [3, 0]])\n",
    "a + b"
   ]
  },
  {
   "attachments": {},
   "cell_type": "markdown",
   "metadata": {},
   "source": [
    "引き算\n",
    "\n",
    "$\n",
    "  \\begin{pmatrix}\n",
    "     1 & 3\\\\\n",
    "    -2 & 4\\\\\n",
    "  \\end{pmatrix}\n",
    "  -\\begin{pmatrix}\n",
    "    2 & -1\\\\\n",
    "    3 &  0\\\\\n",
    "  \\end{pmatrix}\n",
    "$"
   ]
  },
  {
   "cell_type": "code",
   "execution_count": 136,
   "metadata": {},
   "outputs": [
    {
     "data": {
      "text/plain": [
       "array([[-1,  4],\n",
       "       [-5,  4]])"
      ]
     },
     "execution_count": 136,
     "metadata": {},
     "output_type": "execute_result"
    }
   ],
   "source": [
    "a = np.array([[1, 3], [-2, 4]])\n",
    "b = np.array([[2, -1], [3, 0]])\n",
    "a - b"
   ]
  },
  {
   "attachments": {},
   "cell_type": "markdown",
   "metadata": {},
   "source": [
    "行列積\n",
    "\n",
    "$\n",
    "  \\begin{pmatrix}\n",
    "    -2 & -5\\\\\n",
    "     1 &  3\\\\\n",
    "  \\end{pmatrix}\n",
    "  \\begin{pmatrix}\n",
    "    3 &   0\\\\\n",
    "    6 &  -2\\\\\n",
    "  \\end{pmatrix}\n",
    "$"
   ]
  },
  {
   "cell_type": "code",
   "execution_count": 137,
   "metadata": {},
   "outputs": [
    {
     "data": {
      "text/plain": [
       "array([[-36,  10],\n",
       "       [ 21,  -6]])"
      ]
     },
     "execution_count": 137,
     "metadata": {},
     "output_type": "execute_result"
    }
   ],
   "source": [
    "a = np.array([[-2, -5], [1, 3]])\n",
    "b = np.array([[3, 0], [6, -2]])\n",
    "a @ b"
   ]
  },
  {
   "cell_type": "code",
   "execution_count": 138,
   "metadata": {},
   "outputs": [
    {
     "data": {
      "text/plain": [
       "array([[-36,  10],\n",
       "       [ 21,  -6]])"
      ]
     },
     "execution_count": 138,
     "metadata": {},
     "output_type": "execute_result"
    }
   ],
   "source": [
    "a.dot(b)"
   ]
  },
  {
   "attachments": {},
   "cell_type": "markdown",
   "metadata": {},
   "source": [
    "別解"
   ]
  },
  {
   "attachments": {},
   "cell_type": "markdown",
   "metadata": {},
   "source": [
    "アダマール積\n",
    "\n",
    "$\n",
    "  \\begin{pmatrix}\n",
    "     3 &  5\\\\\n",
    "     4 & -1\\\\\n",
    "  \\end{pmatrix}\n",
    "  \\cdot\\begin{pmatrix}\n",
    "    -2 &  1\\\\\n",
    "     0 & -3\\\\\n",
    "  \\end{pmatrix}\n",
    "  =\\begin{pmatrix}\n",
    "    3*(-2) &     5*1\\\\\n",
    "       4*0 & -1*(-3)\\\\\n",
    "  \\end{pmatrix}\n",
    "$"
   ]
  },
  {
   "cell_type": "code",
   "execution_count": 139,
   "metadata": {},
   "outputs": [
    {
     "data": {
      "text/plain": [
       "array([[-6,  5],\n",
       "       [ 0,  3]])"
      ]
     },
     "execution_count": 139,
     "metadata": {},
     "output_type": "execute_result"
    }
   ],
   "source": [
    "a = np.array([[3, 5], [4, -1]])\n",
    "b = np.array([[-2, 1], [0, -3]])\n",
    "a * b"
   ]
  },
  {
   "attachments": {},
   "cell_type": "markdown",
   "metadata": {},
   "source": [
    "## 8.転置行列"
   ]
  },
  {
   "attachments": {},
   "cell_type": "markdown",
   "metadata": {},
   "source": [
    "### 対象となるベクトル\n",
    "\n",
    "$\n",
    "  \\boldsymbol{a} = [2\\ 3\\ 4]\n",
    "$"
   ]
  },
  {
   "attachments": {},
   "cell_type": "markdown",
   "metadata": {},
   "source": [
    "1次元では転置できないので2次元の配列として定義する"
   ]
  },
  {
   "cell_type": "code",
   "execution_count": 140,
   "metadata": {},
   "outputs": [],
   "source": [
    "a = np.array([[2, 3, 4]])"
   ]
  },
  {
   "cell_type": "code",
   "execution_count": 141,
   "metadata": {},
   "outputs": [
    {
     "data": {
      "text/plain": [
       "(1, 3)"
      ]
     },
     "execution_count": 141,
     "metadata": {},
     "output_type": "execute_result"
    }
   ],
   "source": [
    "a.shape"
   ]
  },
  {
   "cell_type": "code",
   "execution_count": 142,
   "metadata": {},
   "outputs": [
    {
     "data": {
      "text/plain": [
       "array([[2],\n",
       "       [3],\n",
       "       [4]])"
      ]
     },
     "execution_count": 142,
     "metadata": {},
     "output_type": "execute_result"
    }
   ],
   "source": [
    "a.T"
   ]
  },
  {
   "attachments": {},
   "cell_type": "markdown",
   "metadata": {},
   "source": [
    "### 対象となる行列\n",
    "\n",
    "$\n",
    "  \\boldsymbol{B} =\n",
    "    \\begin{pmatrix}\n",
    "      1.2 & 3.5 &  5.1\\\\\n",
    "      -0.3 & 1.1 &  -4.5\\\\\n",
    "    \\end{pmatrix}\n",
    "$\n"
   ]
  },
  {
   "cell_type": "code",
   "execution_count": 143,
   "metadata": {},
   "outputs": [],
   "source": [
    "B = np.array([[1.2, 3.5, 5.1], [-0.3, 1.1, -4.5]])"
   ]
  },
  {
   "cell_type": "code",
   "execution_count": 144,
   "metadata": {},
   "outputs": [
    {
     "data": {
      "text/plain": [
       "array([[ 1.2, -0.3],\n",
       "       [ 3.5,  1.1],\n",
       "       [ 5.1, -4.5]])"
      ]
     },
     "execution_count": 144,
     "metadata": {},
     "output_type": "execute_result"
    }
   ],
   "source": [
    "B.T"
   ]
  },
  {
   "attachments": {},
   "cell_type": "markdown",
   "metadata": {},
   "source": [
    "## 9.逆行列"
   ]
  },
  {
   "attachments": {},
   "cell_type": "markdown",
   "metadata": {},
   "source": [
    "### 対象となる行列\n",
    "\n",
    "$\n",
    "  \\boldsymbol{A} =\n",
    "    \\begin{pmatrix}\n",
    "       4 & -2 \\\\\n",
    "      1 &  0 \\\\\n",
    "    \\end{pmatrix}\n",
    "$\n",
    "\n",
    "### 取得する値\n",
    "\n",
    "* 行列の行列式の値\n",
    "* 行列式の値が0でなければその逆行列"
   ]
  },
  {
   "cell_type": "code",
   "execution_count": 145,
   "metadata": {},
   "outputs": [
    {
     "data": {
      "text/plain": [
       "array([[ 4, -2],\n",
       "       [ 1,  0]])"
      ]
     },
     "execution_count": 145,
     "metadata": {},
     "output_type": "execute_result"
    }
   ],
   "source": [
    "A = np.array([[4, -2], [1, 0]])\n",
    "A"
   ]
  },
  {
   "attachments": {},
   "cell_type": "markdown",
   "metadata": {},
   "source": [
    "linalg = linear algebra（線形代数）\n",
    "\n",
    "det = determinant"
   ]
  },
  {
   "cell_type": "code",
   "execution_count": 146,
   "metadata": {},
   "outputs": [
    {
     "data": {
      "text/plain": [
       "2.0"
      ]
     },
     "execution_count": 146,
     "metadata": {},
     "output_type": "execute_result"
    }
   ],
   "source": [
    "det = np.linalg.det(A)\n",
    "det"
   ]
  },
  {
   "cell_type": "code",
   "execution_count": 147,
   "metadata": {},
   "outputs": [
    {
     "data": {
      "text/plain": [
       "array([[ 0. ,  1. ],\n",
       "       [-0.5,  2. ]])"
      ]
     },
     "execution_count": 147,
     "metadata": {},
     "output_type": "execute_result"
    }
   ],
   "source": [
    "np.linalg.inv(A)"
   ]
  },
  {
   "cell_type": "code",
   "execution_count": 148,
   "metadata": {},
   "outputs": [],
   "source": [
    "Ainv = np.linalg.inv(A)"
   ]
  },
  {
   "attachments": {},
   "cell_type": "markdown",
   "metadata": {},
   "source": [
    "単位行列が1になっているかの検算"
   ]
  },
  {
   "cell_type": "code",
   "execution_count": 149,
   "metadata": {},
   "outputs": [
    {
     "data": {
      "text/plain": [
       "array([[1., 0.],\n",
       "       [0., 1.]])"
      ]
     },
     "execution_count": 149,
     "metadata": {},
     "output_type": "execute_result"
    }
   ],
   "source": [
    "A @ Ainv"
   ]
  },
  {
   "attachments": {},
   "cell_type": "markdown",
   "metadata": {},
   "source": [
    "## 10.ブロードキャスト\n",
    "\n",
    "* ベクトル・行列にスカラーを掛ける"
   ]
  },
  {
   "attachments": {},
   "cell_type": "markdown",
   "metadata": {},
   "source": [
    "$\n",
    "  \\begin{pmatrix}\n",
    "    4 & -2 \\\\\n",
    "    1 &  0 \\\\\n",
    "  \\end{pmatrix} * 0.5\n",
    "$"
   ]
  },
  {
   "cell_type": "code",
   "execution_count": 150,
   "metadata": {},
   "outputs": [
    {
     "data": {
      "text/plain": [
       "array([[ 4, -2],\n",
       "       [ 1,  0]])"
      ]
     },
     "execution_count": 150,
     "metadata": {},
     "output_type": "execute_result"
    }
   ],
   "source": [
    "A = np.array([[4, -2], [1, 0]])\n",
    "A"
   ]
  },
  {
   "cell_type": "code",
   "execution_count": 151,
   "metadata": {},
   "outputs": [
    {
     "data": {
      "text/plain": [
       "array([[ 2. , -1. ],\n",
       "       [ 0.5,  0. ]])"
      ]
     },
     "execution_count": 151,
     "metadata": {},
     "output_type": "execute_result"
    }
   ],
   "source": [
    "A * 0.5"
   ]
  },
  {
   "attachments": {},
   "cell_type": "markdown",
   "metadata": {},
   "source": [
    "$\n",
    "  \\begin{pmatrix}\n",
    "     8 & 1 &  5 \\\\\n",
    "    -3 & 0 & -7 \\\\\n",
    "  \\end{pmatrix} * 2\n",
    "$\n"
   ]
  },
  {
   "cell_type": "code",
   "execution_count": 152,
   "metadata": {},
   "outputs": [
    {
     "data": {
      "text/plain": [
       "array([[ 8,  1,  5],\n",
       "       [-3,  0, -7]])"
      ]
     },
     "execution_count": 152,
     "metadata": {},
     "output_type": "execute_result"
    }
   ],
   "source": [
    "B = np.array([[8, 1, 5], [-3, 0, -7]])\n",
    "B"
   ]
  },
  {
   "cell_type": "code",
   "execution_count": 153,
   "metadata": {},
   "outputs": [
    {
     "data": {
      "text/plain": [
       "array([[ 16,   2,  10],\n",
       "       [ -6,   0, -14]])"
      ]
     },
     "execution_count": 153,
     "metadata": {},
     "output_type": "execute_result"
    }
   ],
   "source": [
    "B * 2"
   ]
  },
  {
   "attachments": {},
   "cell_type": "markdown",
   "metadata": {},
   "source": [
    "## 11.ベクトルのサイズを変更する\n",
    "\n",
    "* ベクトルから行列にサイズを変更する\n",
    "\n",
    "### 対象となるベクトル\n",
    "\n",
    "$\n",
    "  \\boldsymbol{d} = [0\\ 1\\ 2\\ 3\\ 4\\ 5\\ 7\\ 8\\ 9\\ 10\\ 11]\n",
    "$\n",
    "\n",
    "### 変更後の行列\n",
    "\n",
    "$\n",
    "  \\boldsymbol{D} =\n",
    "    \\begin{pmatrix}\n",
    "      0 & 1 &  2 &  3\\\\\n",
    "      4 & 5 &  6 &  7\\\\\n",
    "      8 & 9 & 10 & 11\\\\\n",
    "    \\end{pmatrix}\n",
    "$\n"
   ]
  },
  {
   "cell_type": "code",
   "execution_count": 154,
   "metadata": {},
   "outputs": [
    {
     "data": {
      "text/plain": [
       "array([ 0,  1,  2,  3,  4,  5,  6,  7,  8,  9, 10, 11])"
      ]
     },
     "execution_count": 154,
     "metadata": {},
     "output_type": "execute_result"
    }
   ],
   "source": [
    "d = np.arange(12)\n",
    "d\n"
   ]
  },
  {
   "cell_type": "code",
   "execution_count": 155,
   "metadata": {},
   "outputs": [
    {
     "data": {
      "text/plain": [
       "array([[ 0,  1,  2,  3],\n",
       "       [ 4,  5,  6,  7],\n",
       "       [ 8,  9, 10, 11]])"
      ]
     },
     "execution_count": 155,
     "metadata": {},
     "output_type": "execute_result"
    }
   ],
   "source": [
    "d.reshape(3, 4)"
   ]
  },
  {
   "attachments": {},
   "cell_type": "markdown",
   "metadata": {},
   "source": [
    "## 12.統計値を確認する\n",
    "\n",
    "### 以下の統計値を確認する\n",
    "\n",
    "* 最大値\n",
    "* 最小値\n",
    "* 総和\n",
    "* 平均\n",
    "* 分散\n",
    "* 標準偏差\n",
    "\n",
    "### 対象となる行列\n",
    "\n",
    "$\n",
    "  \\boldsymbol{B} =\n",
    "    \\begin{pmatrix}\n",
    "       2 &  4 &  6\\\\\n",
    "      -1 &  5 & -3\\\\\n",
    "       0 & -2 &  3\\\\\n",
    "    \\end{pmatrix}\n",
    "$\n",
    "\n"
   ]
  },
  {
   "cell_type": "code",
   "execution_count": 156,
   "metadata": {},
   "outputs": [
    {
     "data": {
      "text/plain": [
       "array([[ 2,  4,  6],\n",
       "       [-1,  5, -3],\n",
       "       [ 0, -2,  3]])"
      ]
     },
     "execution_count": 156,
     "metadata": {},
     "output_type": "execute_result"
    }
   ],
   "source": [
    "B = np.array([[2, 4, 6], [-1, 5, -3], [0, -2, 3]])\n",
    "B"
   ]
  },
  {
   "cell_type": "code",
   "execution_count": 157,
   "metadata": {},
   "outputs": [
    {
     "data": {
      "text/plain": [
       "6"
      ]
     },
     "execution_count": 157,
     "metadata": {},
     "output_type": "execute_result"
    }
   ],
   "source": [
    "B.max()"
   ]
  },
  {
   "cell_type": "code",
   "execution_count": 158,
   "metadata": {},
   "outputs": [
    {
     "data": {
      "text/plain": [
       "-3"
      ]
     },
     "execution_count": 158,
     "metadata": {},
     "output_type": "execute_result"
    }
   ],
   "source": [
    "B.min()"
   ]
  },
  {
   "cell_type": "code",
   "execution_count": 159,
   "metadata": {},
   "outputs": [
    {
     "data": {
      "text/plain": [
       "14"
      ]
     },
     "execution_count": 159,
     "metadata": {},
     "output_type": "execute_result"
    }
   ],
   "source": [
    "B.sum()"
   ]
  },
  {
   "cell_type": "code",
   "execution_count": 160,
   "metadata": {},
   "outputs": [
    {
     "data": {
      "text/plain": [
       "1.5555555555555556"
      ]
     },
     "execution_count": 160,
     "metadata": {},
     "output_type": "execute_result"
    }
   ],
   "source": [
    "B.mean()"
   ]
  },
  {
   "cell_type": "code",
   "execution_count": 161,
   "metadata": {},
   "outputs": [
    {
     "data": {
      "text/plain": [
       "9.135802469135802"
      ]
     },
     "execution_count": 161,
     "metadata": {},
     "output_type": "execute_result"
    }
   ],
   "source": [
    "B.var()"
   ]
  },
  {
   "cell_type": "code",
   "execution_count": 162,
   "metadata": {},
   "outputs": [
    {
     "data": {
      "text/plain": [
       "3.0225490019412096"
      ]
     },
     "execution_count": 162,
     "metadata": {},
     "output_type": "execute_result"
    }
   ],
   "source": [
    "B.std()"
   ]
  },
  {
   "attachments": {},
   "cell_type": "markdown",
   "metadata": {},
   "source": [
    "## 13.ユニバーサル関数\n",
    "\n",
    "### 数理的な関数を行列で実装する\n",
    "\n",
    "### 対象となる行列\n",
    "\n",
    "$\n",
    "  \\boldsymbol{A} =\n",
    "    \\begin{pmatrix}\n",
    "      0 & 1\\\\\n",
    "      2 & 4\\\\\n",
    "    \\end{pmatrix}\n",
    "$\n"
   ]
  },
  {
   "cell_type": "code",
   "execution_count": 163,
   "metadata": {},
   "outputs": [
    {
     "data": {
      "text/plain": [
       "array([[0, 1],\n",
       "       [2, 4]])"
      ]
     },
     "execution_count": 163,
     "metadata": {},
     "output_type": "execute_result"
    }
   ],
   "source": [
    "A = np.array([0, 1, 2, 4]).reshape(2, -1)\n",
    "A"
   ]
  },
  {
   "attachments": {},
   "cell_type": "markdown",
   "metadata": {},
   "source": [
    "### 平方根を求める"
   ]
  },
  {
   "cell_type": "code",
   "execution_count": 164,
   "metadata": {},
   "outputs": [
    {
     "data": {
      "text/plain": [
       "array([[0.        , 1.        ],\n",
       "       [1.41421356, 2.        ]])"
      ]
     },
     "execution_count": 164,
     "metadata": {},
     "output_type": "execute_result"
    }
   ],
   "source": [
    "np.sqrt(A)"
   ]
  },
  {
   "attachments": {},
   "cell_type": "markdown",
   "metadata": {},
   "source": [
    "### 指数関数を求める"
   ]
  },
  {
   "cell_type": "code",
   "execution_count": 165,
   "metadata": {},
   "outputs": [
    {
     "data": {
      "text/plain": [
       "array([[ 1.        ,  2.71828183],\n",
       "       [ 7.3890561 , 54.59815003]])"
      ]
     },
     "execution_count": 165,
     "metadata": {},
     "output_type": "execute_result"
    }
   ],
   "source": [
    "np.exp(A)"
   ]
  },
  {
   "attachments": {},
   "cell_type": "markdown",
   "metadata": {},
   "source": [
    "### 対象となる行列\n",
    "\n",
    "$\n",
    "  \\boldsymbol{A} =\n",
    "    \\begin{pmatrix}\n",
    "      0 & \\pi\\\\\n",
    "      \\pi/2 & -\\pi/4\\\\\n",
    "    \\end{pmatrix}\n",
    "$\n"
   ]
  },
  {
   "attachments": {},
   "cell_type": "markdown",
   "metadata": {},
   "source": [
    "### sin関数"
   ]
  },
  {
   "cell_type": "code",
   "execution_count": 166,
   "metadata": {},
   "outputs": [
    {
     "data": {
      "text/plain": [
       "array([[ 0.        ,  3.14159265],\n",
       "       [ 1.57079633, -0.78539816]])"
      ]
     },
     "execution_count": 166,
     "metadata": {},
     "output_type": "execute_result"
    }
   ],
   "source": [
    "A = np.array([0, np.pi, np.pi/2, -np.pi/4]).reshape(2, -1)\n",
    "A"
   ]
  },
  {
   "cell_type": "code",
   "execution_count": 167,
   "metadata": {},
   "outputs": [
    {
     "data": {
      "text/plain": [
       "array([[ 0.00000000e+00,  1.22464680e-16],\n",
       "       [ 1.00000000e+00, -7.07106781e-01]])"
      ]
     },
     "execution_count": 167,
     "metadata": {},
     "output_type": "execute_result"
    }
   ],
   "source": [
    "np.sin(A)"
   ]
  },
  {
   "attachments": {},
   "cell_type": "markdown",
   "metadata": {},
   "source": [
    "### cos関数"
   ]
  },
  {
   "cell_type": "code",
   "execution_count": 168,
   "metadata": {},
   "outputs": [
    {
     "data": {
      "text/plain": [
       "array([[ 1.00000000e+00, -1.00000000e+00],\n",
       "       [ 6.12323400e-17,  7.07106781e-01]])"
      ]
     },
     "execution_count": 168,
     "metadata": {},
     "output_type": "execute_result"
    }
   ],
   "source": [
    "np.cos(A)"
   ]
  },
  {
   "attachments": {},
   "cell_type": "markdown",
   "metadata": {},
   "source": [
    "## 15.行列を結合する\n",
    "\n",
    "行列を縦方向、横方向にそれぞれ結合する\n",
    "\n",
    "$\n",
    "  \\boldsymbol{A} =\n",
    "    \\begin{pmatrix}\n",
    "      0 &  1 & -1\\\\\n",
    "      2 &  4 & -3\\\\\n",
    "      5 & -2 &  7\\\\\n",
    "    \\end{pmatrix}\n",
    "$\n",
    "\n",
    "$\n",
    "  \\boldsymbol{B} =\n",
    "    \\begin{pmatrix}\n",
    "      -2 &  0 & 1\\\\\n",
    "       5 & -1 & 2\\\\\n",
    "      -6 &  3 & 4\\\\\n",
    "    \\end{pmatrix}\n",
    "$\n"
   ]
  },
  {
   "cell_type": "code",
   "execution_count": 169,
   "metadata": {},
   "outputs": [
    {
     "data": {
      "text/plain": [
       "array([[ 0,  1, -1],\n",
       "       [ 2,  4, -3],\n",
       "       [ 5, -2,  7]])"
      ]
     },
     "execution_count": 169,
     "metadata": {},
     "output_type": "execute_result"
    }
   ],
   "source": [
    "A = np.array([0, 1, -1, 2, 4, -3, 5, -2, 7]).reshape(3, -1)\n",
    "A"
   ]
  },
  {
   "cell_type": "code",
   "execution_count": 170,
   "metadata": {},
   "outputs": [
    {
     "data": {
      "text/plain": [
       "array([[-2,  0,  1],\n",
       "       [ 5, -1,  2],\n",
       "       [-6,  3,  4]])"
      ]
     },
     "execution_count": 170,
     "metadata": {},
     "output_type": "execute_result"
    }
   ],
   "source": [
    "B = np.array([-2, 0, 1, 5, -1, 2, -6, 3, 4]).reshape(3, -1)\n",
    "B"
   ]
  },
  {
   "attachments": {},
   "cell_type": "markdown",
   "metadata": {},
   "source": [
    "### 縦方向に結合する"
   ]
  },
  {
   "cell_type": "code",
   "execution_count": 171,
   "metadata": {},
   "outputs": [
    {
     "data": {
      "text/plain": [
       "array([[ 0,  1, -1],\n",
       "       [ 2,  4, -3],\n",
       "       [ 5, -2,  7],\n",
       "       [-2,  0,  1],\n",
       "       [ 5, -1,  2],\n",
       "       [-6,  3,  4]])"
      ]
     },
     "execution_count": 171,
     "metadata": {},
     "output_type": "execute_result"
    }
   ],
   "source": [
    "C = np.vstack((A, B))\n",
    "C"
   ]
  },
  {
   "attachments": {},
   "cell_type": "markdown",
   "metadata": {},
   "source": [
    "### 横方向に結合する"
   ]
  },
  {
   "cell_type": "code",
   "execution_count": 172,
   "metadata": {},
   "outputs": [
    {
     "data": {
      "text/plain": [
       "array([[ 0,  1, -1, -2,  0,  1],\n",
       "       [ 2,  4, -3,  5, -1,  2],\n",
       "       [ 5, -2,  7, -6,  3,  4]])"
      ]
     },
     "execution_count": 172,
     "metadata": {},
     "output_type": "execute_result"
    }
   ],
   "source": [
    "D = np.hstack((A, B))\n",
    "D"
   ]
  },
  {
   "attachments": {},
   "cell_type": "markdown",
   "metadata": {},
   "source": [
    "## 16.行列の分解\n",
    "\n",
    "行列を縦方向、横方向にそれぞれ分解する\n",
    "\n",
    "$\n",
    "  \\boldsymbol{C} =\n",
    "    \\begin{pmatrix}\n",
    "      0 &  1 & -1\\\\\n",
    "      2 &  4 & -3\\\\\n",
    "      5 & -2 &  7\\\\\n",
    "      -2 &  0 & 1\\\\\n",
    "       5 & -1 & 2\\\\\n",
    "      -6 &  3 & 4\\\\\n",
    "    \\end{pmatrix}\n",
    "$\n",
    "\n",
    "$\n",
    "  \\boldsymbol{D} =\n",
    "    \\begin{pmatrix}\n",
    "      0 &  1 & -1 & -2 &  0 & 1\\\\\n",
    "      2 &  4 & -3 &  5 & -1 & 2\\\\\n",
    "      5 & -2 &  7 & -6 &  3 & 4\\\\\n",
    "    \\end{pmatrix}\n",
    "$\n"
   ]
  },
  {
   "attachments": {},
   "cell_type": "markdown",
   "metadata": {},
   "source": [
    "### 縦方向に分解する"
   ]
  },
  {
   "attachments": {},
   "cell_type": "markdown",
   "metadata": {},
   "source": [
    "2つに分解する"
   ]
  },
  {
   "cell_type": "code",
   "execution_count": 173,
   "metadata": {},
   "outputs": [
    {
     "data": {
      "text/plain": [
       "[array([[ 0,  1, -1],\n",
       "        [ 2,  4, -3],\n",
       "        [ 5, -2,  7]]),\n",
       " array([[-2,  0,  1],\n",
       "        [ 5, -1,  2],\n",
       "        [-6,  3,  4]])]"
      ]
     },
     "execution_count": 173,
     "metadata": {},
     "output_type": "execute_result"
    }
   ],
   "source": [
    "np.vsplit(C, 2)"
   ]
  },
  {
   "attachments": {},
   "cell_type": "markdown",
   "metadata": {},
   "source": [
    "3つに分解する"
   ]
  },
  {
   "cell_type": "code",
   "execution_count": 174,
   "metadata": {},
   "outputs": [
    {
     "data": {
      "text/plain": [
       "[array([[ 0,  1, -1],\n",
       "        [ 2,  4, -3]]),\n",
       " array([[ 5, -2,  7],\n",
       "        [-2,  0,  1]]),\n",
       " array([[ 5, -1,  2],\n",
       "        [-6,  3,  4]])]"
      ]
     },
     "execution_count": 174,
     "metadata": {},
     "output_type": "execute_result"
    }
   ],
   "source": [
    "np.vsplit(C, 3)"
   ]
  },
  {
   "attachments": {},
   "cell_type": "markdown",
   "metadata": {},
   "source": [
    "分解後の行列のいずれかを取得する"
   ]
  },
  {
   "cell_type": "code",
   "execution_count": 175,
   "metadata": {},
   "outputs": [
    {
     "data": {
      "text/plain": [
       "array([[ 5, -2,  7],\n",
       "       [-2,  0,  1]])"
      ]
     },
     "execution_count": 175,
     "metadata": {},
     "output_type": "execute_result"
    }
   ],
   "source": [
    "np.vsplit(C, 3)[1]"
   ]
  },
  {
   "attachments": {},
   "cell_type": "markdown",
   "metadata": {},
   "source": [
    "### 横方向に分解する"
   ]
  },
  {
   "attachments": {},
   "cell_type": "markdown",
   "metadata": {},
   "source": [
    "2つに分解する"
   ]
  },
  {
   "cell_type": "code",
   "execution_count": 176,
   "metadata": {},
   "outputs": [
    {
     "data": {
      "text/plain": [
       "[array([[ 0,  1, -1],\n",
       "        [ 2,  4, -3],\n",
       "        [ 5, -2,  7]]),\n",
       " array([[-2,  0,  1],\n",
       "        [ 5, -1,  2],\n",
       "        [-6,  3,  4]])]"
      ]
     },
     "execution_count": 176,
     "metadata": {},
     "output_type": "execute_result"
    }
   ],
   "source": [
    "np.hsplit(D, 2)"
   ]
  },
  {
   "cell_type": "code",
   "execution_count": 177,
   "metadata": {},
   "outputs": [
    {
     "data": {
      "text/plain": [
       "array([[-2,  0,  1],\n",
       "       [ 5, -1,  2],\n",
       "       [-6,  3,  4]])"
      ]
     },
     "execution_count": 177,
     "metadata": {},
     "output_type": "execute_result"
    }
   ],
   "source": [
    "np.hsplit(D, 2)[1]"
   ]
  },
  {
   "attachments": {},
   "cell_type": "markdown",
   "metadata": {},
   "source": [
    "## 17.グラフ化"
   ]
  },
  {
   "cell_type": "code",
   "execution_count": 178,
   "metadata": {},
   "outputs": [],
   "source": [
    "import matplotlib.pyplot as plt\n",
    "%matplotlib inline"
   ]
  },
  {
   "attachments": {},
   "cell_type": "markdown",
   "metadata": {},
   "source": [
    "### sin波とcos波\n",
    "\n",
    "* 0～2πの範囲を500サンプルで区切る"
   ]
  },
  {
   "attachments": {},
   "cell_type": "markdown",
   "metadata": {},
   "source": [
    "サンプルの作成"
   ]
  },
  {
   "cell_type": "code",
   "execution_count": 179,
   "metadata": {},
   "outputs": [
    {
     "data": {
      "text/plain": [
       "array([0.        , 0.01259155, 0.02518311, 0.03777466, 0.05036621,\n",
       "       0.06295777, 0.07554932, 0.08814088, 0.10073243, 0.11332398,\n",
       "       0.12591554, 0.13850709, 0.15109864, 0.1636902 , 0.17628175,\n",
       "       0.18887331, 0.20146486, 0.21405641, 0.22664797, 0.23923952,\n",
       "       0.25183107, 0.26442263, 0.27701418, 0.28960574, 0.30219729,\n",
       "       0.31478884, 0.3273804 , 0.33997195, 0.3525635 , 0.36515506,\n",
       "       0.37774661, 0.39033817, 0.40292972, 0.41552127, 0.42811283,\n",
       "       0.44070438, 0.45329593, 0.46588749, 0.47847904, 0.4910706 ,\n",
       "       0.50366215, 0.5162537 , 0.52884526, 0.54143681, 0.55402836,\n",
       "       0.56661992, 0.57921147, 0.59180302, 0.60439458, 0.61698613,\n",
       "       0.62957769, 0.64216924, 0.65476079, 0.66735235, 0.6799439 ,\n",
       "       0.69253545, 0.70512701, 0.71771856, 0.73031012, 0.74290167,\n",
       "       0.75549322, 0.76808478, 0.78067633, 0.79326788, 0.80585944,\n",
       "       0.81845099, 0.83104255, 0.8436341 , 0.85622565, 0.86881721,\n",
       "       0.88140876, 0.89400031, 0.90659187, 0.91918342, 0.93177498,\n",
       "       0.94436653, 0.95695808, 0.96954964, 0.98214119, 0.99473274,\n",
       "       1.0073243 , 1.01991585, 1.03250741, 1.04509896, 1.05769051,\n",
       "       1.07028207, 1.08287362, 1.09546517, 1.10805673, 1.12064828,\n",
       "       1.13323983, 1.14583139, 1.15842294, 1.1710145 , 1.18360605,\n",
       "       1.1961976 , 1.20878916, 1.22138071, 1.23397226, 1.24656382,\n",
       "       1.25915537, 1.27174693, 1.28433848, 1.29693003, 1.30952159,\n",
       "       1.32211314, 1.33470469, 1.34729625, 1.3598878 , 1.37247936,\n",
       "       1.38507091, 1.39766246, 1.41025402, 1.42284557, 1.43543712,\n",
       "       1.44802868, 1.46062023, 1.47321179, 1.48580334, 1.49839489,\n",
       "       1.51098645, 1.523578  , 1.53616955, 1.54876111, 1.56135266,\n",
       "       1.57394422, 1.58653577, 1.59912732, 1.61171888, 1.62431043,\n",
       "       1.63690198, 1.64949354, 1.66208509, 1.67467664, 1.6872682 ,\n",
       "       1.69985975, 1.71245131, 1.72504286, 1.73763441, 1.75022597,\n",
       "       1.76281752, 1.77540907, 1.78800063, 1.80059218, 1.81318374,\n",
       "       1.82577529, 1.83836684, 1.8509584 , 1.86354995, 1.8761415 ,\n",
       "       1.88873306, 1.90132461, 1.91391617, 1.92650772, 1.93909927,\n",
       "       1.95169083, 1.96428238, 1.97687393, 1.98946549, 2.00205704,\n",
       "       2.0146486 , 2.02724015, 2.0398317 , 2.05242326, 2.06501481,\n",
       "       2.07760636, 2.09019792, 2.10278947, 2.11538103, 2.12797258,\n",
       "       2.14056413, 2.15315569, 2.16574724, 2.17833879, 2.19093035,\n",
       "       2.2035219 , 2.21611346, 2.22870501, 2.24129656, 2.25388812,\n",
       "       2.26647967, 2.27907122, 2.29166278, 2.30425433, 2.31684588,\n",
       "       2.32943744, 2.34202899, 2.35462055, 2.3672121 , 2.37980365,\n",
       "       2.39239521, 2.40498676, 2.41757831, 2.43016987, 2.44276142,\n",
       "       2.45535298, 2.46794453, 2.48053608, 2.49312764, 2.50571919,\n",
       "       2.51831074, 2.5309023 , 2.54349385, 2.55608541, 2.56867696,\n",
       "       2.58126851, 2.59386007, 2.60645162, 2.61904317, 2.63163473,\n",
       "       2.64422628, 2.65681784, 2.66940939, 2.68200094, 2.6945925 ,\n",
       "       2.70718405, 2.7197756 , 2.73236716, 2.74495871, 2.75755027,\n",
       "       2.77014182, 2.78273337, 2.79532493, 2.80791648, 2.82050803,\n",
       "       2.83309959, 2.84569114, 2.85828269, 2.87087425, 2.8834658 ,\n",
       "       2.89605736, 2.90864891, 2.92124046, 2.93383202, 2.94642357,\n",
       "       2.95901512, 2.97160668, 2.98419823, 2.99678979, 3.00938134,\n",
       "       3.02197289, 3.03456445, 3.047156  , 3.05974755, 3.07233911,\n",
       "       3.08493066, 3.09752222, 3.11011377, 3.12270532, 3.13529688,\n",
       "       3.14788843, 3.16047998, 3.17307154, 3.18566309, 3.19825465,\n",
       "       3.2108462 , 3.22343775, 3.23602931, 3.24862086, 3.26121241,\n",
       "       3.27380397, 3.28639552, 3.29898708, 3.31157863, 3.32417018,\n",
       "       3.33676174, 3.34935329, 3.36194484, 3.3745364 , 3.38712795,\n",
       "       3.3997195 , 3.41231106, 3.42490261, 3.43749417, 3.45008572,\n",
       "       3.46267727, 3.47526883, 3.48786038, 3.50045193, 3.51304349,\n",
       "       3.52563504, 3.5382266 , 3.55081815, 3.5634097 , 3.57600126,\n",
       "       3.58859281, 3.60118436, 3.61377592, 3.62636747, 3.63895903,\n",
       "       3.65155058, 3.66414213, 3.67673369, 3.68932524, 3.70191679,\n",
       "       3.71450835, 3.7270999 , 3.73969146, 3.75228301, 3.76487456,\n",
       "       3.77746612, 3.79005767, 3.80264922, 3.81524078, 3.82783233,\n",
       "       3.84042389, 3.85301544, 3.86560699, 3.87819855, 3.8907901 ,\n",
       "       3.90338165, 3.91597321, 3.92856476, 3.94115631, 3.95374787,\n",
       "       3.96633942, 3.97893098, 3.99152253, 4.00411408, 4.01670564,\n",
       "       4.02929719, 4.04188874, 4.0544803 , 4.06707185, 4.07966341,\n",
       "       4.09225496, 4.10484651, 4.11743807, 4.13002962, 4.14262117,\n",
       "       4.15521273, 4.16780428, 4.18039584, 4.19298739, 4.20557894,\n",
       "       4.2181705 , 4.23076205, 4.2433536 , 4.25594516, 4.26853671,\n",
       "       4.28112827, 4.29371982, 4.30631137, 4.31890293, 4.33149448,\n",
       "       4.34408603, 4.35667759, 4.36926914, 4.3818607 , 4.39445225,\n",
       "       4.4070438 , 4.41963536, 4.43222691, 4.44481846, 4.45741002,\n",
       "       4.47000157, 4.48259312, 4.49518468, 4.50777623, 4.52036779,\n",
       "       4.53295934, 4.54555089, 4.55814245, 4.570734  , 4.58332555,\n",
       "       4.59591711, 4.60850866, 4.62110022, 4.63369177, 4.64628332,\n",
       "       4.65887488, 4.67146643, 4.68405798, 4.69664954, 4.70924109,\n",
       "       4.72183265, 4.7344242 , 4.74701575, 4.75960731, 4.77219886,\n",
       "       4.78479041, 4.79738197, 4.80997352, 4.82256508, 4.83515663,\n",
       "       4.84774818, 4.86033974, 4.87293129, 4.88552284, 4.8981144 ,\n",
       "       4.91070595, 4.92329751, 4.93588906, 4.94848061, 4.96107217,\n",
       "       4.97366372, 4.98625527, 4.99884683, 5.01143838, 5.02402993,\n",
       "       5.03662149, 5.04921304, 5.0618046 , 5.07439615, 5.0869877 ,\n",
       "       5.09957926, 5.11217081, 5.12476236, 5.13735392, 5.14994547,\n",
       "       5.16253703, 5.17512858, 5.18772013, 5.20031169, 5.21290324,\n",
       "       5.22549479, 5.23808635, 5.2506779 , 5.26326946, 5.27586101,\n",
       "       5.28845256, 5.30104412, 5.31363567, 5.32622722, 5.33881878,\n",
       "       5.35141033, 5.36400189, 5.37659344, 5.38918499, 5.40177655,\n",
       "       5.4143681 , 5.42695965, 5.43955121, 5.45214276, 5.46473432,\n",
       "       5.47732587, 5.48991742, 5.50250898, 5.51510053, 5.52769208,\n",
       "       5.54028364, 5.55287519, 5.56546675, 5.5780583 , 5.59064985,\n",
       "       5.60324141, 5.61583296, 5.62842451, 5.64101607, 5.65360762,\n",
       "       5.66619917, 5.67879073, 5.69138228, 5.70397384, 5.71656539,\n",
       "       5.72915694, 5.7417485 , 5.75434005, 5.7669316 , 5.77952316,\n",
       "       5.79211471, 5.80470627, 5.81729782, 5.82988937, 5.84248093,\n",
       "       5.85507248, 5.86766403, 5.88025559, 5.89284714, 5.9054387 ,\n",
       "       5.91803025, 5.9306218 , 5.94321336, 5.95580491, 5.96839646,\n",
       "       5.98098802, 5.99357957, 6.00617113, 6.01876268, 6.03135423,\n",
       "       6.04394579, 6.05653734, 6.06912889, 6.08172045, 6.094312  ,\n",
       "       6.10690356, 6.11949511, 6.13208666, 6.14467822, 6.15726977,\n",
       "       6.16986132, 6.18245288, 6.19504443, 6.20763598, 6.22022754,\n",
       "       6.23281909, 6.24541065, 6.2580022 , 6.27059375, 6.28318531])"
      ]
     },
     "execution_count": 179,
     "metadata": {},
     "output_type": "execute_result"
    }
   ],
   "source": [
    "x = np.linspace(0, 2*np.pi, 500)\n",
    "x"
   ]
  },
  {
   "attachments": {},
   "cell_type": "markdown",
   "metadata": {},
   "source": [
    "プロットの実行"
   ]
  },
  {
   "cell_type": "code",
   "execution_count": 180,
   "metadata": {},
   "outputs": [
    {
     "data": {
      "image/png": "[encoded data removed]",
      "text/plain": [
       "<Figure size 640x480 with 1 Axes>"
      ]
     },
     "metadata": {},
     "output_type": "display_data"
    }
   ],
   "source": [
    "plt.plot(x, np.sin(x))\n",
    "plt.plot(x, np.cos(x))\n",
    "plt.show()"
   ]
  },
  {
   "attachments": {},
   "cell_type": "markdown",
   "metadata": {},
   "source": [
    "### ヒストグラム\n",
    "\n",
    "* 0～30までの整数\n",
    "* ランダムで100サンプルを作成する"
   ]
  },
  {
   "attachments": {},
   "cell_type": "markdown",
   "metadata": {},
   "source": [
    "サンプルの作成"
   ]
  },
  {
   "cell_type": "code",
   "execution_count": 181,
   "metadata": {},
   "outputs": [
    {
     "data": {
      "text/plain": [
       "array([19,  1, 23, 18, 15, 25, 16, 17, 21, 22, 18, 15,  7, 13, 16, 11,  3,\n",
       "        3,  2, 26,  5,  3, 16,  8,  5,  1, 16, 23, 17,  1, 14, 14,  1,  0,\n",
       "       10, 14,  4,  0, 30, 11, 19, 12, 17, 29, 30, 26, 27,  6, 10, 20, 15,\n",
       "       26, 18,  9,  1, 15, 11, 12, 15,  8, 30,  9,  5,  0, 19, 27, 28, 23,\n",
       "       11, 19, 20, 27,  0, 10, 22, 10, 12, 16, 11, 21, 25, 30,  3, 23, 13,\n",
       "       28, 18, 12, 11, 25,  0,  6,  1,  0, 25,  7, 16, 29, 28,  8])"
      ]
     },
     "execution_count": 181,
     "metadata": {},
     "output_type": "execute_result"
    }
   ],
   "source": [
    "data = np.random.randint(0, 31, 100)\n",
    "data"
   ]
  },
  {
   "attachments": {},
   "cell_type": "markdown",
   "metadata": {},
   "source": [
    "プロットの実行"
   ]
  },
  {
   "cell_type": "code",
   "execution_count": 182,
   "metadata": {},
   "outputs": [
    {
     "data": {
      "text/plain": [
       "(array([13.,  8.,  7., 12.,  9., 14., 10.,  8.,  7., 12.]),\n",
       " array([ 0.,  3.,  6.,  9., 12., 15., 18., 21., 24., 27., 30.]),\n",
       " <BarContainer object of 10 artists>)"
      ]
     },
     "execution_count": 182,
     "metadata": {},
     "output_type": "execute_result"
    },
    {
     "data": {
      "image/png": "[encoded data removed]",
      "text/plain": [
       "<Figure size 640x480 with 1 Axes>"
      ]
     },
     "metadata": {},
     "output_type": "display_data"
    }
   ],
   "source": [
    "plt.hist(data)"
   ]
  },
  {
   "attachments": {},
   "cell_type": "markdown",
   "metadata": {},
   "source": [
    "### 散布図\n",
    "\n",
    "* －100～100までの整数\n",
    "* ランダムで300サンプルを2つ作成する"
   ]
  },
  {
   "attachments": {},
   "cell_type": "markdown",
   "metadata": {},
   "source": [
    "サンプルの作成"
   ]
  },
  {
   "cell_type": "code",
   "execution_count": 183,
   "metadata": {},
   "outputs": [],
   "source": [
    "data1 = np.random.randint(-100, 100, 300)\n",
    "data2 = np.random.randint(-100, 100, 300)"
   ]
  },
  {
   "attachments": {},
   "cell_type": "markdown",
   "metadata": {},
   "source": [
    "プロットの実行"
   ]
  },
  {
   "cell_type": "code",
   "execution_count": 184,
   "metadata": {},
   "outputs": [
    {
     "data": {
      "text/plain": [
       "<matplotlib.collections.PathCollection at 0x2d183566790>"
      ]
     },
     "execution_count": 184,
     "metadata": {},
     "output_type": "execute_result"
    },
    {
     "data": {
      "image/png": "[encoded data removed]",
      "text/plain": [
       "<Figure size 640x480 with 1 Axes>"
      ]
     },
     "metadata": {},
     "output_type": "display_data"
    }
   ],
   "source": [
    "plt.scatter(data1, data2)"
   ]
  },
  {
   "attachments": {},
   "cell_type": "markdown",
   "metadata": {},
   "source": [
    "## 18.行列積の計算サンプル\n",
    "\n",
    "$\n",
    "  \\boldsymbol{C} =AB\n",
    "$\n",
    "\n",
    "$\n",
    "  \\boldsymbol{A} =\n",
    "    \\begin{pmatrix}\n",
    "      -10 & -8 & -6\\\\\n",
    "       -4 & -2 &  0\\\\\n",
    "        2 &  4 &  6\\\\\n",
    "        8 & 10 & 12\\\\\n",
    "    \\end{pmatrix}\n",
    "$\n",
    "\n",
    "$\n",
    "  \\boldsymbol{B} =\n",
    "    \\begin{pmatrix}\n",
    "        -1 & -2 & -2 & -2\\\\\n",
    "        -2 & -1 & -2 & -2\\\\\n",
    "        -2 & -2 & -1 & -2\\\\\n",
    "    \\end{pmatrix}\n",
    "$"
   ]
  },
  {
   "cell_type": "code",
   "execution_count": 185,
   "metadata": {},
   "outputs": [
    {
     "data": {
      "text/plain": [
       "array([[-10,  -8,  -6],\n",
       "       [ -4,  -2,   0],\n",
       "       [  2,   4,   6],\n",
       "       [  8,  10,  12]])"
      ]
     },
     "execution_count": 185,
     "metadata": {},
     "output_type": "execute_result"
    }
   ],
   "source": [
    "A = np.arange(-10, 13, 2).reshape(4, -1)\n",
    "A"
   ]
  },
  {
   "cell_type": "code",
   "execution_count": 186,
   "metadata": {},
   "outputs": [
    {
     "data": {
      "text/plain": [
       "array([[-1., -2., -2., -2.],\n",
       "       [-2., -1., -2., -2.],\n",
       "       [-2., -2., -1., -2.]])"
      ]
     },
     "execution_count": 186,
     "metadata": {},
     "output_type": "execute_result"
    }
   ],
   "source": [
    "B = np.eye(3, 4) -2\n",
    "B"
   ]
  },
  {
   "attachments": {},
   "cell_type": "markdown",
   "metadata": {},
   "source": [
    "計算可能か確認する"
   ]
  },
  {
   "cell_type": "code",
   "execution_count": 187,
   "metadata": {},
   "outputs": [
    {
     "data": {
      "text/plain": [
       "((4, 3), (3, 4))"
      ]
     },
     "execution_count": 187,
     "metadata": {},
     "output_type": "execute_result"
    }
   ],
   "source": [
    "A.shape, B.shape"
   ]
  },
  {
   "attachments": {},
   "cell_type": "markdown",
   "metadata": {},
   "source": [
    "Aの列数とBの行数が一致しているので可能"
   ]
  },
  {
   "cell_type": "code",
   "execution_count": 188,
   "metadata": {},
   "outputs": [
    {
     "data": {
      "text/plain": [
       "array([[ 38.,  40.,  42.,  48.],\n",
       "       [  8.,  10.,  12.,  12.],\n",
       "       [-22., -20., -18., -24.],\n",
       "       [-52., -50., -48., -60.]])"
      ]
     },
     "execution_count": 188,
     "metadata": {},
     "output_type": "execute_result"
    }
   ],
   "source": [
    "C = A @ B\n",
    "C"
   ]
  },
  {
   "attachments": {},
   "cell_type": "markdown",
   "metadata": {},
   "source": [
    "## 19.計算結果から再定義する"
   ]
  },
  {
   "attachments": {},
   "cell_type": "markdown",
   "metadata": {},
   "source": [
    "2行目、2列目までを取得"
   ]
  },
  {
   "cell_type": "code",
   "execution_count": 189,
   "metadata": {},
   "outputs": [
    {
     "data": {
      "text/plain": [
       "array([[38., 40.],\n",
       "       [ 8., 10.]])"
      ]
     },
     "execution_count": 189,
     "metadata": {},
     "output_type": "execute_result"
    }
   ],
   "source": [
    "D = C[:2, :2]\n",
    "D"
   ]
  },
  {
   "attachments": {},
   "cell_type": "markdown",
   "metadata": {},
   "source": [
    "転置する"
   ]
  },
  {
   "cell_type": "code",
   "execution_count": 190,
   "metadata": {},
   "outputs": [
    {
     "data": {
      "text/plain": [
       "array([[38.,  8.],\n",
       "       [40., 10.]])"
      ]
     },
     "execution_count": 190,
     "metadata": {},
     "output_type": "execute_result"
    }
   ],
   "source": [
    "D.T"
   ]
  },
  {
   "attachments": {},
   "cell_type": "markdown",
   "metadata": {},
   "source": [
    "逆行列を求める"
   ]
  },
  {
   "cell_type": "code",
   "execution_count": 191,
   "metadata": {},
   "outputs": [
    {
     "data": {
      "text/plain": [
       "59.999999999999986"
      ]
     },
     "execution_count": 191,
     "metadata": {},
     "output_type": "execute_result"
    }
   ],
   "source": [
    "np.linalg.det(D.T)"
   ]
  },
  {
   "cell_type": "code",
   "execution_count": 192,
   "metadata": {},
   "outputs": [
    {
     "data": {
      "text/plain": [
       "array([[ 0.16666667, -0.13333333],\n",
       "       [-0.66666667,  0.63333333]])"
      ]
     },
     "execution_count": 192,
     "metadata": {},
     "output_type": "execute_result"
    }
   ],
   "source": [
    "np.linalg.inv(D.T)"
   ]
  }
 ],
 "metadata": {
  "kernelspec": {
   "display_name": ".env_pandas",
   "language": "python",
   "name": "python3"
  },
  "language_info": {
   "codemirror_mode": {
    "name": "ipython",
    "version": 3
   },
   "file_extension": ".py",
   "mimetype": "text/x-python",
   "name": "python",
   "nbconvert_exporter": "python",
   "pygments_lexer": "ipython3",
   "version": "3.11.0"
  },
  "orig_nbformat": 4
 },
 "nbformat": 4,
 "nbformat_minor": 2
}
